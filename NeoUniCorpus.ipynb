{
  "nbformat": 4,
  "nbformat_minor": 0,
  "metadata": {
    "colab": {
      "provenance": [],
      "include_colab_link": true
    },
    "kernelspec": {
      "name": "python3",
      "display_name": "Python 3"
    },
    "language_info": {
      "name": "python"
    }
  },
  "cells": [
    {
      "cell_type": "markdown",
      "metadata": {
        "id": "view-in-github",
        "colab_type": "text"
      },
      "source": [
        "<a href=\"https://colab.research.google.com/github/ryosanhin/NeoUniCorpus/blob/main/NeoUniCorpus.ipynb\" target=\"_parent\"><img src=\"https://colab.research.google.com/assets/colab-badge.svg\" alt=\"Open In Colab\"/></a>"
      ]
    },
    {
      "cell_type": "code",
      "source": [
        "!git clone https://github.com/ryosanhin/NeoUniTextCollection.git"
      ],
      "metadata": {
        "id": "5lHIB6XFrBjq"
      },
      "execution_count": null,
      "outputs": []
    },
    {
      "cell_type": "code",
      "source": [
        "# @title\n",
        "import os\n",
        "import glob\n",
        "import re\n",
        "import itertools\n",
        "from dataclasses import dataclass, astuple\n",
        "import pandas as pd\n",
        "from natsort import natsorted\n",
        "\n",
        "@dataclass\n",
        "class ContextExample:\n",
        "    speaker: str\n",
        "    source: str\n",
        "    beforeContext: str\n",
        "    context: str\n",
        "    afterContext: str\n",
        "\n",
        "# create natural sort ordered csv files\n",
        "def get_sorted_csv_files(root_dir_path):\n",
        "    files = glob.glob(os.path.join(root_dir_path, \"**/*.csv\"), recursive=True)\n",
        "    return natsorted(files)\n",
        "\n",
        "# search examples from story data\n",
        "def search_example_from_story(csv_path, word, count):\n",
        "    context_column = 1\n",
        "    try:\n",
        "        # read csv as str data\n",
        "        df = pd.read_csv(csv_path, header=None, comment='#', dtype=str, encoding=\"utf-8\", na_filter=False)\n",
        "    except pd.errors.EmptyDataError:\n",
        "        return []\n",
        "\n",
        "    # delete \"\\\\n\"\n",
        "    df = df.map(lambda elem: re.sub(r\"\\\\n\", \"\", elem))\n",
        "\n",
        "    # create mask with the word looking for\n",
        "    mask = df[context_column].str.contains(word, na=False)\n",
        "\n",
        "    # quit if there is no cell looking for\n",
        "    if not any(mask):\n",
        "        return []\n",
        "\n",
        "    return [\n",
        "        ContextExample(\n",
        "            speaker = df.iloc[index][0],\n",
        "            source = df.iloc[0][1],\n",
        "\n",
        "            beforeContext = next(\n",
        "                itertools.dropwhile(lambda contexts: len(contexts)<count, itertools.accumulate(reversed(df.iloc[:index][1]), func = lambda x, y: y+x)),\n",
        "                \"\".join(df.iloc[:index][1])\n",
        "            )[-count:],\n",
        "\n",
        "            context = df.iloc[index][1],\n",
        "\n",
        "            afterContext = next(\n",
        "                itertools.dropwhile(lambda contexts: len(contexts)<count, itertools.accumulate(df.iloc[index+1:][1])),\n",
        "                \"\".join(df.iloc[index+1:][1])\n",
        "            )[:count]\n",
        "        ) for index in df[mask].index\n",
        "    ]\n",
        "\n",
        "# search examples from voice data\n",
        "def search_example_from_voice(csv_path, word):\n",
        "    context_column = 1\n",
        "    try:\n",
        "        # read csv as str data\n",
        "        df = pd.read_csv(csv_path, header=None, comment='#', dtype=str, encoding=\"utf-8\", na_filter=False)\n",
        "    except pd.errors.EmptyDataError:\n",
        "        return []\n",
        "\n",
        "    # delete \"\\\\n\"\n",
        "    df = df.map(lambda elem: re.sub(r\"\\\\n\", \"\", elem))\n",
        "\n",
        "    # create mask with the word looking for\n",
        "    mask = df[context_column].str.contains(word, na=False)\n",
        "\n",
        "    # quit if there is no cell looking for\n",
        "    if not any(mask):\n",
        "        return []\n",
        "\n",
        "    return [\n",
        "        ContextExample(\n",
        "            speaker = \"ネオユニヴァース\",\n",
        "            source = \"ボイス\",\n",
        "            beforeContext = df.iloc[index][0],\n",
        "            context = df.iloc[index][1],\n",
        "            afterContext = \"\"\n",
        "        ) for index in df[mask].index\n",
        "    ]\n",
        "\n",
        "# search examples to terms\n",
        "def search_examples(word, length):\n",
        "    dir_path = \"/content/NeoUniTextCollection\"\n",
        "\n",
        "    examples = ([\n",
        "        result\n",
        "        for character_dir in glob.glob(os.path.join(dir_path, \"**/\"))\n",
        "        for csv_path in get_sorted_csv_files(os.path.join(character_dir, \"VoiceText\"))\n",
        "        for result in search_example_from_voice(csv_path, word)\n",
        "    ] + [\n",
        "        result\n",
        "        for character_dir in glob.glob(os.path.join(dir_path, \"**/\"))\n",
        "        for csv_path in get_sorted_csv_files(os.path.join(character_dir, \"StoryText\"))\n",
        "        for result in search_example_from_story(csv_path, word, length)\n",
        "    ])\n",
        "\n",
        "    return pd.DataFrame([astuple(elem) for elem in examples], columns=[\"speaker\", \"source\", \"before context\", \"target context\", \"after context\"])"
      ],
      "metadata": {
        "id": "nL8l185VQEyO"
      },
      "execution_count": null,
      "outputs": []
    },
    {
      "cell_type": "code",
      "source": [
        "# input word here you are looking for\n",
        "WORD_LOOKING_FOR = \"neouniverse\"\n",
        "\n",
        "# set accompanying context length\n",
        "CONTEXT_LENGTH = 100\n",
        "\n",
        "output = search_examples(WORD_LOOKING_FOR, CONTEXT_LENGTH)\n",
        "\n",
        "output.style.set_properties(\n",
        "  subset=[\"speaker\", \"source\", \"before context\", \"target context\", \"after context\"],\n",
        "  **{\"white-space\": \"pre-wrap\", \"text-align\": \"left\"}\n",
        ")"
      ],
      "metadata": {
        "id": "AeArc-OeXD7m"
      },
      "execution_count": null,
      "outputs": []
    }
  ]
}